{
 "cells": [
  {
   "cell_type": "markdown",
   "metadata": {},
   "source": [
    "## Climate App\n",
    "\n",
    "* RICARDO REYNOSO RAMOS"
   ]
  },
  {
   "cell_type": "code",
   "execution_count": 1,
   "metadata": {},
   "outputs": [],
   "source": [
    "from flask import Flask, redirect, jsonify\n",
    "import numpy as np\n",
    "import sqlalchemy\n",
    "from sqlalchemy.ext.automap import automap_base\n",
    "from sqlalchemy.orm import Session\n",
    "from sqlalchemy import create_engine, func\n",
    "import datetime\n"
   ]
  },
  {
   "cell_type": "code",
   "execution_count": 2,
   "metadata": {},
   "outputs": [],
   "source": [
    "#Setup database\n",
    "#create engine\n",
    "engine = create_engine(\"sqlite:///hawaii.sqlite\")"
   ]
  },
  {
   "cell_type": "code",
   "execution_count": 3,
   "metadata": {},
   "outputs": [],
   "source": [
    "#reflect database and tables\n",
    "Base = automap_base()\n",
    "Base.prepare(engine, reflect = True)"
   ]
  },
  {
   "cell_type": "code",
   "execution_count": 4,
   "metadata": {},
   "outputs": [],
   "source": [
    "#save table references\n",
    "Measurement = Base.classes.measurement\n",
    "Station = Base.classes.station"
   ]
  },
  {
   "cell_type": "code",
   "execution_count": 5,
   "metadata": {},
   "outputs": [],
   "source": [
    "#create session\n",
    "session = Session(engine)"
   ]
  },
  {
   "cell_type": "code",
   "execution_count": 6,
   "metadata": {},
   "outputs": [],
   "source": [
    "#Setup Flask\n",
    "climate_app = Flask(__name__)"
   ]
  },
  {
   "cell_type": "code",
   "execution_count": 7,
   "metadata": {},
   "outputs": [],
   "source": [
    "#Establish the FLASK ROUTES\n",
    "@climate_app.route(\"/\")\n",
    "def display():\n",
    "    \"\"\"List all available api routes.\"\"\"\n",
    "    return (\n",
    "        f\"Avalable Routes:<br/>\"\n",
    "        f\"/api/v1.0/precipitation<br/>\"\n",
    "        f\"-the dates and precipitation observations from the last year<br/>\"\n",
    "        f\"/api/v1.0/stations\"\n",
    "        f\"- list of stations from the dataset<br/>\"\n",
    "        f\"//api/v1.0/tobs\"\n",
    "        f\"- list of Temperature Observations (tobs) for the previous year<br/>\"\n",
    "        f\"/api/v1.0/calc_temps/<start>\"\n",
    "        f\"- list of `TMIN`, `TAVG`, and `TMAX` for all dates greater than and equal to the start date<br/>\"\n",
    "        f\"/api/v1.0/calc_temps/<start>/<end>\"\n",
    "        f\"- the `TMIN`, `TAVG`, and `TMAX` for dates between the start and end date inclusive<br/>\"\n",
    "    )"
   ]
  },
  {
   "cell_type": "code",
   "execution_count": 8,
   "metadata": {},
   "outputs": [],
   "source": [
    "@climate_app.route(\"/api/v1.0/precipitation\")\n",
    "def precipitations():\n",
    "    \"\"\"Return a list of dates and precipitation observations\"\"\"\n",
    " \n",
    "    prcp_data = session.query(Measurement.date, Measurement.prcp).\\\n",
    "                   filter(Measurement.date.between('2016-08-01', '2017-08-01')).all()\n",
    "\n",
    "    precipitations= []\n",
    "    for result in prcp_data:\n",
    "        row = {\"date\":\"prcp\"}\n",
    "        row[\"date\"] = result[0]\n",
    "        row[\"prcp\"] = float(result[1])\n",
    "        precipitations.append(row)\n",
    "\n",
    "    return jsonify(precipitations)"
   ]
  },
  {
   "cell_type": "code",
   "execution_count": 9,
   "metadata": {},
   "outputs": [],
   "source": [
    "@climate_app.route(\"/api/v1.0/stations\")\n",
    "def stations():\n",
    "   \n",
    "    # Query all stations from the station table\n",
    "    station_data = session.query(Station.station, Station.station_name).group_by(Station.station).all()\n",
    "\n",
    "    station_final = list(np.ravel(station_data))\n",
    "    return jsonify(station_final)"
   ]
  },
  {
   "cell_type": "code",
   "execution_count": 10,
   "metadata": {},
   "outputs": [],
   "source": [
    "@climate_app.route(\"/api/v1.0/tobs\")\n",
    "def tobs():\n",
    "    tobs_data = session.query(Measurement.station, Measurement.tobs).filter(Measurement.date.between('2016-08-01', '2017-08-01')).all()\n",
    "    \n",
    "    tobs_final=[]\n",
    "    for tobs in tobs_data:\n",
    "        tobs_dict = {}\n",
    "        tobs_dict[\"station\"] = tobs[0]\n",
    "        tobs_dict[\"tobs\"] = float(tobs[1])\n",
    "       \n",
    "        tobs_final.append(tobs_dict)\n",
    "    return jsonify(tobs_final)"
   ]
  },
  {
   "cell_type": "code",
   "execution_count": 11,
   "metadata": {},
   "outputs": [],
   "source": [
    "@climate_app.route(\"/api/v1.0/calc_temps/<start>\")\n",
    "def calcs_temps(start='start_date'):\n",
    "    start_date = datetime.strptime('2016-08-01', '%Y-%m-%d').date()\n",
    "    start_results = session.query(func.max(Measurement.tobs), \\\n",
    "                            func.min(Measurement.tobs),\\\n",
    "                            func.avg(Measurement.tobs)).\\\n",
    "                            filter(Measurement.date >= start_date)\n",
    "    start_tobs = []\n",
    "    for tobs in start_results:\n",
    "        tobs_dict = {}\n",
    "        tobs_dict[\"TAVG\"] = float(tobs[2])\n",
    "        tobs_dict[\"TMAX\"] = float(tobs[0])\n",
    "        tobs_dict[\"TMIN\"] = float(tobs[1])\n",
    "        \n",
    "        start_tobs.append(tobs_dict)\n",
    "\n",
    "    return jsonify(start_tobs)\n"
   ]
  },
  {
   "cell_type": "code",
   "execution_count": 12,
   "metadata": {},
   "outputs": [],
   "source": [
    "@climate_app.route(\"/api/v1.0/calc_temps/<start>/<end>\")\n",
    "def calcs_temps_b(start='start_date', end='end_date'):      \n",
    "    start_date = datetime.strptime('2016-08-01', '%Y-%m-%d').date()\n",
    "    end_date = datetime.strptime('2017-08-01', '%Y-%m-%d').date()\n",
    "\n",
    "    start_end_results=session.query(func.max(Measurement.tobs).label(\"max_tobs\"), \\\n",
    "                      func.min(Measurement.tobs).label(\"min_tobs\"),\\\n",
    "                      func.avg(Measurement.tobs).label(\"avg_tobs\")).\\\n",
    "                      filter(Measurement.date.between(start_date , end_date))   \n",
    "    start_end_tobs = []\n",
    "    for tobs in start_end_results:\n",
    "        tobs_dict = {}\n",
    "        tobs_dict[\"TAVG\"] = float(tobs[2])\n",
    "        tobs_dict[\"TMAX\"] = float(tobs[0])\n",
    "        tobs_dict[\"TMIN\"] = float(tobs[1])\n",
    "\n",
    "        start_end_tobs.append(tobs_dict)\n",
    "    \n",
    "    return jsonify(start_end_tobs)"
   ]
  },
  {
   "cell_type": "code",
   "execution_count": 14,
   "metadata": {},
   "outputs": [
    {
     "name": "stdout",
     "output_type": "stream",
     "text": [
      " * Serving Flask app \"__main__\" (lazy loading)\n",
      " * Environment: production\n",
      "   WARNING: This is a development server. Do not use it in a production deployment.\n",
      "   Use a production WSGI server instead.\n",
      " * Debug mode: on\n"
     ]
    },
    {
     "name": "stderr",
     "output_type": "stream",
     "text": [
      " * Restarting with stat\n"
     ]
    },
    {
     "ename": "SystemExit",
     "evalue": "1",
     "output_type": "error",
     "traceback": [
      "An exception has occurred, use %tb to see the full traceback.\n",
      "\u001b[1;31mSystemExit\u001b[0m\u001b[1;31m:\u001b[0m 1\n"
     ]
    }
   ],
   "source": [
    "if __name__ == '__main__':\n",
    "    climate_app.run(debug=True)"
   ]
  },
  {
   "cell_type": "code",
   "execution_count": null,
   "metadata": {},
   "outputs": [],
   "source": []
  },
  {
   "cell_type": "code",
   "execution_count": null,
   "metadata": {},
   "outputs": [],
   "source": []
  }
 ],
 "metadata": {
  "kernelspec": {
   "display_name": "Python 3",
   "language": "python",
   "name": "python3"
  },
  "language_info": {
   "codemirror_mode": {
    "name": "ipython",
    "version": 3
   },
   "file_extension": ".py",
   "mimetype": "text/x-python",
   "name": "python",
   "nbconvert_exporter": "python",
   "pygments_lexer": "ipython3",
   "version": "3.7.3"
  }
 },
 "nbformat": 4,
 "nbformat_minor": 2
}
